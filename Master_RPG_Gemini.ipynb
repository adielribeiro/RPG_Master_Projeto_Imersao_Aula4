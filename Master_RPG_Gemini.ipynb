{
  "cells": [
    {
      "cell_type": "markdown",
      "metadata": {
        "id": "view-in-github",
        "colab_type": "text"
      },
      "source": [
        "<a href=\"https://colab.research.google.com/github/adielribeiro/RPG_Master_Projeto_Imersao_Aula4/blob/main/Master_RPG_Gemini.ipynb\" target=\"_parent\"><img src=\"https://colab.research.google.com/assets/colab-badge.svg\" alt=\"Open In Colab\"/></a>"
      ]
    },
    {
      "cell_type": "code",
      "execution_count": 17,
      "metadata": {
        "id": "sO52g3seoZr9"
      },
      "outputs": [],
      "source": [
        "pip install -q -U google-generativeai\n"
      ]
    },
    {
      "cell_type": "markdown",
      "metadata": {
        "id": "kQ9ccXQlefLY"
      },
      "source": [
        "Parâmetros e configuraçãoes\n"
      ]
    },
    {
      "cell_type": "code",
      "execution_count": 18,
      "metadata": {
        "id": "YHqaqKKWo5F-"
      },
      "outputs": [],
      "source": [
        "import google.generativeai as genai\n",
        "from google.colab import userdata\n",
        "\n",
        "my_key = userdata.get('chave')\n",
        "\n",
        "genai.configure(api_key=my_key)\n"
      ]
    },
    {
      "cell_type": "code",
      "execution_count": 19,
      "metadata": {
        "id": "DatbxGALRrcD"
      },
      "outputs": [],
      "source": [
        "generation_config = {\n",
        " \"candidate_count\": 1,\n",
        " \"temperature\": 1,\n",
        "}"
      ]
    },
    {
      "cell_type": "code",
      "execution_count": 20,
      "metadata": {
        "id": "6qD1jZQ6R0cw"
      },
      "outputs": [],
      "source": [
        "safety_settings = {\n",
        "    \"HARASSMENT\": \"BLOCK_NONE\",\n",
        "    \"HATE\": \"BLOCK_NONE\",\n",
        "    \"SEXUAL\": \"BLOCK_NONE\",\n",
        "    \"DANGEROUS\": \"BLOCK_NONE\",\n",
        "}\n"
      ]
    },
    {
      "cell_type": "code",
      "execution_count": 21,
      "metadata": {
        "id": "ibvnk6QwR2Of"
      },
      "outputs": [],
      "source": [
        "model = genai.GenerativeModel(model_name=\"gemini-1.5-pro-latest\",\n",
        "                              generation_config=generation_config,\n",
        "                              safety_settings=safety_settings)"
      ]
    },
    {
      "cell_type": "code",
      "execution_count": 22,
      "metadata": {
        "id": "NF0t62T3SZKr"
      },
      "outputs": [],
      "source": [
        "chat = model.start_chat(history=[])\n"
      ]
    },
    {
      "cell_type": "markdown",
      "metadata": {
        "id": "RxFFbfltea5x"
      },
      "source": [
        "Inicio da execução"
      ]
    },
    {
      "cell_type": "code",
      "execution_count": 31,
      "metadata": {
        "colab": {
          "base_uri": "https://localhost:8080/",
          "height": 1000
        },
        "id": "sEgQbY13S3m4",
        "outputId": "7b74c7d0-ef43-42b9-9050-1e4a8d0ff6c2"
      },
      "outputs": [
        {
          "output_type": "display_data",
          "data": {
            "text/plain": [
              "<IPython.core.display.Markdown object>"
            ],
            "text/markdown": "> **user**: AdielVamos jogar RPG de mesa, aja como um mestre e inicie uma aventura para 01 jogador que se chama: {char}, narre de forma simples e curta, e desenvolva conforme o feedback do jogador, lembre-se de utilizar textos curtos e simples para deixar a aventura dinâmica"
          },
          "metadata": {}
        },
        {
          "output_type": "stream",
          "name": "stdout",
          "text": [
            "-------------------------------------------\n"
          ]
        },
        {
          "output_type": "display_data",
          "data": {
            "text/plain": [
              "<IPython.core.display.Markdown object>"
            ],
            "text/markdown": "> **model**: ## A Floresta Sombria\n> \n> {char}, você se encontra à beira de uma floresta densa e escura. A vegetação é tão espessa que mal deixa a luz do sol penetrar, criando um ambiente úmido e frio. O silêncio é quebrado apenas pelo som dos seus passos e o canto distante de alguns pássaros. \n> \n> O que você faz? \n"
          },
          "metadata": {}
        },
        {
          "output_type": "stream",
          "name": "stdout",
          "text": [
            "-------------------------------------------\n"
          ]
        },
        {
          "output_type": "display_data",
          "data": {
            "text/plain": [
              "<IPython.core.display.Markdown object>"
            ],
            "text/markdown": "> **user**: Pular"
          },
          "metadata": {}
        },
        {
          "output_type": "stream",
          "name": "stdout",
          "text": [
            "-------------------------------------------\n"
          ]
        },
        {
          "output_type": "display_data",
          "data": {
            "text/plain": [
              "<IPython.core.display.Markdown object>"
            ],
            "text/markdown": "> **model**: Pular? Na floresta? 🤔 \n> \n> Você pula algumas vezes, testando o solo macio coberto de folhas. O que você espera encontrar com seus pulos? \n"
          },
          "metadata": {}
        },
        {
          "output_type": "stream",
          "name": "stdout",
          "text": [
            "-------------------------------------------\n"
          ]
        },
        {
          "output_type": "display_data",
          "data": {
            "text/plain": [
              "<IPython.core.display.Markdown object>"
            ],
            "text/markdown": "> **user**: rolar no chão"
          },
          "metadata": {}
        },
        {
          "output_type": "stream",
          "name": "stdout",
          "text": [
            "-------------------------------------------\n"
          ]
        },
        {
          "output_type": "display_data",
          "data": {
            "text/plain": [
              "<IPython.core.display.Markdown object>"
            ],
            "text/markdown": "> **model**: Você se joga no chão, rolando sobre as folhas secas e macias. Um cheiro de terra úmida invade suas narinas.  Ao terminar de rolar, você percebe algo brilhando entre as folhas. \n> \n> O que você faz? \n"
          },
          "metadata": {}
        },
        {
          "output_type": "stream",
          "name": "stdout",
          "text": [
            "-------------------------------------------\n"
          ]
        },
        {
          "output_type": "display_data",
          "data": {
            "text/plain": [
              "<IPython.core.display.Markdown object>"
            ],
            "text/markdown": "> **user**: vejo o brilho"
          },
          "metadata": {}
        },
        {
          "output_type": "stream",
          "name": "stdout",
          "text": [
            "-------------------------------------------\n"
          ]
        },
        {
          "output_type": "display_data",
          "data": {
            "text/plain": [
              "<IPython.core.display.Markdown object>"
            ],
            "text/markdown": "> **model**: Ao se aproximar, você vê que o brilho vem de um pequeno objeto metálico, meio enterrado na terra. Parece ser um medalhão, com um símbolo estranho gravado nele. \n> \n> Você pega o medalhão?\n"
          },
          "metadata": {}
        },
        {
          "output_type": "stream",
          "name": "stdout",
          "text": [
            "-------------------------------------------\n"
          ]
        },
        {
          "output_type": "display_data",
          "data": {
            "text/plain": [
              "<IPython.core.display.Markdown object>"
            ],
            "text/markdown": "> **user**: pego o medalhãoVamos jogar RPG de mesa, aja como um mestre e inicie uma aventura para 01 jogador que se chama: {char}, narre de forma simples e curta, e desenvolva conforme o feedback do jogador, lembre-se de utilizar textos curtos e simples para deixar a aventura dinâmica"
          },
          "metadata": {}
        },
        {
          "output_type": "stream",
          "name": "stdout",
          "text": [
            "-------------------------------------------\n"
          ]
        },
        {
          "output_type": "display_data",
          "data": {
            "text/plain": [
              "<IPython.core.display.Markdown object>"
            ],
            "text/markdown": "> **model**: ## A Floresta Sombria\n> \n> {char}, você se encontra à beira de uma floresta densa e escura. A vegetação é tão espessa que mal deixa a luz do sol penetrar, criando um ambiente úmido e frio. O silêncio é quebrado apenas pelo som dos seus passos e o canto distante de alguns pássaros. \n> \n> O que você faz? \n"
          },
          "metadata": {}
        },
        {
          "output_type": "stream",
          "name": "stdout",
          "text": [
            "-------------------------------------------\n"
          ]
        },
        {
          "output_type": "display_data",
          "data": {
            "text/plain": [
              "<IPython.core.display.Markdown object>"
            ],
            "text/markdown": "> **user**: JuniorVamos jogar RPG de mesa, aja como um mestre e inicie uma aventura para 01 jogador, narre de forma simples e curta, e desenvolva conforme o feedback do jogador, lembre-se de utilizar textos curtos e simples para deixar a aventura dinâmica, use o nome do jogador como {char}, informado a cima pelo jogador, para ser usado na aventura"
          },
          "metadata": {}
        },
        {
          "output_type": "stream",
          "name": "stdout",
          "text": [
            "-------------------------------------------\n"
          ]
        },
        {
          "output_type": "display_data",
          "data": {
            "text/plain": [
              "<IPython.core.display.Markdown object>"
            ],
            "text/markdown": "> **model**: ## A Trilha Esquecida\n> \n> Junior, você está caminhando por uma trilha estreita que corta um campo aberto. A grama alta balança com a brisa suave e o sol brilha forte no céu azul. A trilha parece não ter fim, desaparecendo na linha do horizonte.\n> \n> O que você faz, Junior? \n"
          },
          "metadata": {}
        },
        {
          "output_type": "stream",
          "name": "stdout",
          "text": [
            "-------------------------------------------\n"
          ]
        },
        {
          "output_type": "display_data",
          "data": {
            "text/plain": [
              "<IPython.core.display.Markdown object>"
            ],
            "text/markdown": "> **user**: CyberpunkLeidãVamos jogar RPG de mesa, aja como um mestre e inicie uma aventura para 01 jogador, narre de forma simples e curta, e desenvolva conforme o feedback do jogador, lembre-se de utilizar textos curtos e simples para deixar a aventura dinâmica, use o nome do jogador como {char}, informado a cima pelo jogador  também o {tipo} para serem usados na aventura"
          },
          "metadata": {}
        },
        {
          "output_type": "stream",
          "name": "stdout",
          "text": [
            "-------------------------------------------\n"
          ]
        },
        {
          "output_type": "display_data",
          "data": {
            "text/plain": [
              "<IPython.core.display.Markdown object>"
            ],
            "text/markdown": "> **model**: ## Neon City Blues\n> \n> Leidã, a chuva ácida cai incessantemente sobre Neo-São Paulo. Você, um {tipo} experiente, está em um beco escuro, iluminado apenas pelo brilho neon dos outdoors das megacorporações. O cheiro de lixo queimado e ozônio invade suas narinas. \n> \n> O que você faz, Leidã? \n"
          },
          "metadata": {}
        },
        {
          "output_type": "stream",
          "name": "stdout",
          "text": [
            "-------------------------------------------\n"
          ]
        },
        {
          "output_type": "display_data",
          "data": {
            "text/plain": [
              "<IPython.core.display.Markdown object>"
            ],
            "text/markdown": "> **user**: CyberpunkJoeVamos jogar RPG de mesa, aja como um mestre e inicie uma aventura para 01 jogador, narre de forma simples e curta, e desenvolva conforme o feedback do jogador, lembre-se de utilizar textos curtos e simples para deixar a aventura dinâmica, use o nome do jogador como {char}, informado a cima pelo jogador  também o tipo para serem usados na aventura"
          },
          "metadata": {}
        },
        {
          "output_type": "stream",
          "name": "stdout",
          "text": [
            "-------------------------------------------\n"
          ]
        },
        {
          "output_type": "display_data",
          "data": {
            "text/plain": [
              "<IPython.core.display.Markdown object>"
            ],
            "text/markdown": "> **model**: ## Night City - Ruas de Neon\n> \n> Joe, as luzes de Night City refletem em suas lentes cibernéticas enquanto você navega pelas ruas lotadas. O barulho de carros voadores e anúncios holográficos invade seus ouvidos.  Você, um {tipo} conhecido, sente o peso do seu equipamento cibernético enquanto caminha. \n> \n> Qual é seu destino nesta noite, Joe? \n"
          },
          "metadata": {}
        },
        {
          "output_type": "stream",
          "name": "stdout",
          "text": [
            "-------------------------------------------\n"
          ]
        },
        {
          "output_type": "display_data",
          "data": {
            "text/plain": [
              "<IPython.core.display.Markdown object>"
            ],
            "text/markdown": "> **user**: VampitoJackVamos jogar RPG de mesa, aja como um mestre e inicie uma aventura para 01 jogador, narre de forma simples e curta, e desenvolva conforme o feedback do jogador, lembre-se de utilizar textos curtos e simples para deixar a aventura dinâmica, use o nome do jogador como {char}, informado a cima pelo jogador  também o tipo de aventura para serem usados na aventura"
          },
          "metadata": {}
        },
        {
          "output_type": "stream",
          "name": "stdout",
          "text": [
            "-------------------------------------------\n"
          ]
        },
        {
          "output_type": "display_data",
          "data": {
            "text/plain": [
              "<IPython.core.display.Markdown object>"
            ],
            "text/markdown": "> **model**: ## A Noite Eterna\n> \n> Jack, a lua cheia ilumina o velho castelo em ruínas que se ergue no topo da colina. Sombras dançam entre as paredes de pedra, e um vento frio assobia pelos corredores vazios. Você, um jovem {Vampito}, sente a sede queimar em sua garganta enquanto observa a cidade adormecida lá embaixo.\n> \n> O que você fará nesta noite, Jack? \n"
          },
          "metadata": {}
        },
        {
          "output_type": "stream",
          "name": "stdout",
          "text": [
            "-------------------------------------------\n"
          ]
        },
        {
          "output_type": "display_data",
          "data": {
            "text/plain": [
              "<IPython.core.display.Markdown object>"
            ],
            "text/markdown": "> **user**: vampiroBlueVamos jogar RPG de mesa, aja como um mestre e inicie uma aventura para 01 jogador, narre de forma simples e curta, e desenvolva conforme o feedback do jogador, lembre-se de utilizar textos curtos e simples para deixar a aventura dinâmica, use o nome do jogador como {char}, para se usado na aventura, utilize também o tema proposto para ser usado na aventura"
          },
          "metadata": {}
        },
        {
          "output_type": "stream",
          "name": "stdout",
          "text": [
            "-------------------------------------------\n"
          ]
        },
        {
          "output_type": "display_data",
          "data": {
            "text/plain": [
              "<IPython.core.display.Markdown object>"
            ],
            "text/markdown": "> **model**: ## A Sede Eterna\n> \n> Blue, a noite envolve a cidade em um manto escuro. Luzes fracas brilham das janelas dos prédios, contrastando com o céu estrelado. Você, um vampiro com séculos de idade, desperta em seu caixão sentindo a familiar sede queimar em sua garganta.\n> \n> O que você fará nesta noite, Blue? \n"
          },
          "metadata": {}
        },
        {
          "output_type": "stream",
          "name": "stdout",
          "text": [
            "-------------------------------------------\n"
          ]
        },
        {
          "output_type": "display_data",
          "data": {
            "text/plain": [
              "<IPython.core.display.Markdown object>"
            ],
            "text/markdown": "> **user**: Sobrevo a cidade"
          },
          "metadata": {}
        },
        {
          "output_type": "stream",
          "name": "stdout",
          "text": [
            "-------------------------------------------\n"
          ]
        },
        {
          "output_type": "display_data",
          "data": {
            "text/plain": [
              "<IPython.core.display.Markdown object>"
            ],
            "text/markdown": "> **model**: Com a graça de um predador noturno, você emerge de seu esconderijo e se lança aos céus. O vento frio bate em seu rosto enquanto você sobrevoa a cidade adormecida. As ruas estão desertas, exceto por alguns retardatários que caminham apressados para casa. Você sente o cheiro deles, o sangue pulsando em suas veias.\n> \n> Para onde você dirige seu voo, Blue? \n"
          },
          "metadata": {}
        },
        {
          "output_type": "stream",
          "name": "stdout",
          "text": [
            "-------------------------------------------\n"
          ]
        },
        {
          "output_type": "display_data",
          "data": {
            "text/plain": [
              "<IPython.core.display.Markdown object>"
            ],
            "text/markdown": "> **user**: CyberpunkBlueVamos jogar RPG de mesa, aja como um mestre e inicie uma aventura para 01 jogador, narre de forma simples e curta, e desenvolva conforme o feedback do jogador, lembre-se de utilizar textos curtos e simples para deixar a aventura dinâmica, use o nome do jogador como {char}, para se usado na aventura, utilize também o tema proposto para ser usado na aventura"
          },
          "metadata": {}
        },
        {
          "output_type": "stream",
          "name": "stdout",
          "text": [
            "-------------------------------------------\n"
          ]
        },
        {
          "output_type": "display_data",
          "data": {
            "text/plain": [
              "<IPython.core.display.Markdown object>"
            ],
            "text/markdown": "> **model**: ## Megacity 2099 - Sob a Chuva Ácida\n> \n> Blue, a chuva ácida cai implacável sobre as ruas neon de Megacity. Hologramas piscam com anúncios de produtos que prometem a imortalidade, enquanto gangues cibernéticas disputam território nas vielas escuras. Você, um {tipo} conhecido, sente o zumbido dos seus implantes cibernéticos enquanto caminha pelas ruas molhadas.\n> \n> Qual é seu próximo passo, Blue? \n"
          },
          "metadata": {}
        },
        {
          "output_type": "stream",
          "name": "stdout",
          "text": [
            "-------------------------------------------\n",
            "Digite o nome do seu Personagen para a aventura: Babao\n",
            "Digite tema da aventura: Pirata\n",
            "Resposta:  ## Marés da Fortuna\n",
            "\n",
            "Babaó, o sol escaldante brilha sobre o mar azul-turquesa. A brisa salgada sopra em seu rosto enquanto você se equilibra no convés do seu navio pirata, o \"Cascavel\".  Sua tripulação, um bando de desajustados e aventureiros, está ocupada com suas tarefas, preparando-se para a próxima aventura. \n",
            "\n",
            "Qual é o seu próximo destino, Capitão Babaó?  🗺️ \n",
            " \n",
            "\n",
            "\n",
            "Digite sua acao: Ao caribe marujos\n",
            "Resposta:  \"Ao Caribe, marujos!\" você grita, sua voz ecoando pelo convés. A tripulação explode em vivas e assobios, animados com a perspectiva de saques e aventuras. O \"Cascavel\" corta as ondas, deixando um rastro espumante enquanto navega em direção ao pôr do sol.\n",
            "\n",
            "Após alguns dias de viagem, o vigia grita do topo do mastro: \"Terra à vista!\". No horizonte, uma ilha surge, coberta por uma densa vegetação tropical. \n",
            "\n",
            "O que você faz, Capitão Babaó? \n",
            " \n",
            "\n",
            "\n",
            "Digite sua acao: Olho pela luneta\n",
            "Resposta:  Você pega sua luneta e a leva aos olhos, focalizando a ilha. Você vê uma praia de areia branca, palmeiras balançando ao vento e uma densa selva que se estende até o interior. Em uma das extremidades da praia, você nota algumas construções de madeira, que parecem ser cabanas.\n",
            "\n",
            "O que você faz, Capitão Babaó? \n",
            " \n",
            "\n",
            "\n",
            "Digite sua acao: uma ilha de pescadores\n",
            "Resposta:  \"Parece uma ilha de pescadores,\" você murmura para si mesmo, analisando as cabanas simples e os barcos de pesca ancorados na praia. \"Mas nunca se sabe o que pode estar escondido nessas ilhas...\"\n",
            "\n",
            "Você decide:\n",
            "\n",
            "1. **Enviar um grupo de reconhecimento para explorar a ilha.**\n",
            "2. **Ancorar o navio e liderar a tripulação em terra.** \n",
            "3. **Manter distância e observar a ilha por mais tempo.** \n",
            "\n",
            "\n",
            "O que você escolhe, Capitão Babaó? \n",
            " \n",
            "\n",
            "\n",
            "Digite sua acao: Enviar\n",
            "Resposta:  \"Capitão Barba Ruiva e João Pé-de-pau, preparem um grupo de reconhecimento e explorem a ilha,\" você ordena. \"Tenham cuidado e voltem assim que tiverem informações.\"\n",
            "\n",
            "Os dois piratas experientes reúnem alguns homens e partem em um pequeno bote em direção à praia. Eles desaparecem na densa vegetação e você fica no convés, aguardando seu retorno.\n",
            "\n",
            "O que você faz enquanto espera, Capitão Babaó? \n",
            " \n",
            "\n",
            "\n",
            "Digite sua acao: tomo run\n",
            "Resposta:  Você se serve de um generoso gole de rum, sentindo o líquido quente descer pela sua garganta. Enquanto observa a ilha, você repassa as possibilidades em sua mente. Será que a ilha é realmente apenas um vilarejo de pescadores pacíficos? Ou será que há algo mais escondido ali, tesouros ou perigos? \n",
            "\n",
            "O tempo passa e o sol começa a se pôr, pintando o céu com tons de laranja e vermelho. A tripulação começa a ficar impaciente, e você também. \n",
            "\n",
            "O que você faz, Capitão Babaó? \n",
            " \n",
            "\n",
            "\n",
            "Digite sua acao: onde estão eles, olho pela luneta\n",
            "Resposta:  \"Onde estão esses malditos?\" você resmunga, levando a luneta aos olhos novamente. Você examina a praia e a linha da vegetação, mas não vê nenhum sinal do grupo de reconhecimento. A preocupação começa a tomar conta de você. \n",
            "\n",
            "O que você faz, Capitão Babaó? \n",
            " \n",
            "\n",
            "\n",
            "Digite sua acao: vamos ancorar, preparem as espada\n",
            "Resposta:  \"Preparem as espadas e levantem âncora!\" você grita, sua voz carregada de urgência. \"Parece que nossos amigos encontraram problemas. Vamos resgatá-los!\"\n",
            "\n",
            "A tripulação entra em ação, içando as velas e preparando as armas. O \"Cascavel\" se aproxima da praia e você lidera seus homens em terra, espadas em punho, prontos para enfrentar qualquer perigo que possa estar à espreita na ilha.\n",
            "\n",
            "Ao adentrarem a vegetação, vocês ouvem um barulho estranho, como um canto gutural vindo das profundezas da selva. \n",
            "\n",
            "O que vocês fazem? \n",
            " \n",
            "\n",
            "\n",
            "Digite sua acao: o que isso?\n",
            "Resposta:  \"Que diabos é isso?\" um dos seus homens sussurra, com os olhos arregalados de medo. O canto gutural fica mais alto e vocês percebem que ele está se aproximando. \n",
            "\n",
            "Vocês avançam cautelosamente pela selva, as espadas em punho. A vegetação é densa e escura, e vocês mal conseguem enxergar alguns passos à frente. De repente, vocês se deparam com uma clareira. \n",
            "\n",
            "No centro da clareira, em volta de uma fogueira, está um grupo de nativos vestidos com roupas feitas de penas e ossos. Eles cantam e dançam em volta do fogo, e no meio deles, amarrados a um poste, estão Barba Ruiva e João Pé-de-pau! \n",
            "\n",
            "O que vocês fazem? \n",
            " \n",
            "\n",
            "\n",
            "Digite sua acao: eu pego minha garrucha e atiro em um deles e grito atacar!\n",
            "Resposta:  \"Atacar!\" você ruge, sacando sua garrucha e disparando contra um dos nativos. O tiro ecoa pela selva e o nativo cai no chão, morto. A tripulação irrompe em um grito de guerra e avança contra os nativos, espadas e pistolas em punho.\n",
            "\n",
            "Os nativos, surpresos pelo ataque repentino, revidam com lanças e flechas. Uma batalha feroz se inicia na clareira, com os piratas e os nativos lutando com todas as suas forças. \n",
            "\n",
            "O que você faz, Capitão Babaó? \n",
            " \n",
            "\n",
            "\n",
            "Digite sua acao: solto os prisioneiros\n",
            "Resposta:  Enquanto a batalha se desenrola ao seu redor, você corre em direção ao poste onde Barba Ruiva e João Pé-de-pau estão amarrados. Com alguns golpes rápidos de sua espada, você corta as cordas que os prendem. \n",
            "\n",
            "\"Capitão!\" Barba Ruiva exclama, massageando os pulsos. \"Esses selvagens nos pegaram de surpresa!\"\n",
            "\n",
            "\"Não se preocupem,\" você responde. \"Vamos dar uma lição nesses cães!\"\n",
            "\n",
            "Juntos, vocês três se juntam à batalha, lutando lado a lado com sua tripulação. Os nativos, apesar de serem ferozes, estão em menor número e começam a recuar. \n",
            "\n",
            "O que você faz, Capitão Babaó?\n",
            " \n",
            "\n",
            "\n",
            "Digite sua acao: vamos seguilos\n",
            "Resposta:  \"Não os deixem escapar!\" você grita, liderando seus homens em perseguição aos nativos em fuga. Vocês correm pela selva, seguindo as trilhas deixadas pelos nativos. \n",
            "\n",
            "A perseguição os leva a um caminho estreito que sobe a encosta de uma montanha. No topo da montanha, vocês avistam uma estrutura imponente: um templo antigo feito de pedra, coberto de musgo e vinhas.\n",
            "\n",
            "Os nativos restantes correm para dentro do templo, desaparecendo em sua escuridão. \n",
            "\n",
            "O que você faz, Capitão Babaó? \n",
            " \n",
            "\n",
            "\n",
            "Digite sua acao: Onde diabos estamos, que ilha é essa/\n",
            "Resposta:  \"Que ilha amaldiçoada é essa?\" você murmura, olhando para o templo sinistro no topo da montanha. \"Esses nativos não parecem ser pescadores comuns...\"\n",
            "\n",
            "Barba Ruiva coça a barba, pensativo. \"Capitão, já ouvi histórias de ilhas nesta região onde tribos antigas adoravam deuses pagãos e praticavam rituais sangrentos...\"\n",
            "\n",
            "Um arrepio percorre sua espinha. Você sente que há algo de muito errado com esta ilha e com o templo no topo da montanha.\n",
            "\n",
            "O que você faz, Capitão Babaó? \n",
            " \n",
            "\n",
            "\n",
            "Digite sua acao: Vamos ao templo, atenção homens\n",
            "Resposta:  \"Atenção, homens!\" você brada, sua voz ecoando pelas encostas da montanha. \"Vamos entrar nesse templo e descobrir o que esses selvagens estão tramando!\"\n",
            "\n",
            "Com espadas em punho e pistolas carregadas, vocês começam a subir o caminho estreito que leva ao templo. A cada passo, a sensação de perigo aumenta, e vocês podem sentir os olhares dos nativos os observando das sombras.\n",
            "\n",
            "Ao chegarem à entrada do templo, vocês se deparam com um portal esculpido com imagens estranhas e símbolos misteriosos. Uma aura de poder maligno parece emanar do interior do templo.\n",
            "\n",
            "O que você faz, Capitão Babaó? \n",
            " \n",
            "\n",
            "\n",
            "Digite sua acao: continuo entrando\n",
            "Resposta:  Com um olhar determinado, você atravessa o portal e entra no templo. A escuridão o envolve, quebrada apenas por raios de luz que penetram pelas fendas no teto. O ar é pesado e úmido, com um cheiro de mofo e incenso. \n",
            "\n",
            "Vocês avançam cautelosamente pelo corredor principal do templo, as paredes decoradas com pinturas e esculturas que retratam cenas de sacrifícios e rituais macabros. Vocês podem ouvir o som de tambores e cânticos vindos das profundezas do templo.\n",
            "\n",
            "De repente, vocês ouvem um rugido ensurdecedor e o chão começa a tremer. Das sombras, surge uma criatura gigantesca, com olhos vermelhos brilhantes e garras afiadas como navalhas.\n",
            "\n",
            "O que vocês fazem? \n",
            " \n",
            "\n",
            "\n",
            "Digite sua acao: Um demônio atirem \n",
            "Resposta:  \"É um demônio!\" um dos seus homens grita, apavorado. \n",
            "\n",
            "Vocês abrem fogo contra a criatura, mas as balas parecem não ter efeito. O demônio ruge novamente e avança sobre vocês, suas garras prontas para atacar.\n",
            "\n",
            "O que vocês fazem? \n",
            " \n",
            "\n",
            "\n",
            "Digite sua acao: Vamos fugir, recuar homens\n",
            "Resposta:  \"Recuar, homens!\" você grita, percebendo que a criatura é muito poderosa para ser derrotada com armas convencionais. Vocês se viram e correm de volta pelo corredor, o demônio os perseguindo de perto.\n",
            "\n",
            "Vocês correm desesperadamente, desviando de armadilhas e obstáculos, enquanto o demônio ruge e destrói tudo em seu caminho. \n",
            "\n",
            "Vocês conseguem escapar do templo e correm montanha abaixo, de volta para o seu navio. \n",
            "\n",
            "O que você faz agora, Capitão Babaó? \n",
            " \n",
            "\n",
            "\n",
            "Digite sua acao: Vamos abandonar esse lugar amaldiçoada e nunca mais voltar eu marco a ilha no mapa com um x utilizando meu sangue\n",
            "Resposta:  \"Levantem âncora e zarpem imediatamente!\" você ordena, ainda tremendo com o encontro com o demônio. \"Vamos abandonar esta ilha amaldiçoada e nunca mais voltar!\"\n",
            "\n",
            "A tripulação obedece rapidamente, içando as velas e navegando para longe da ilha. Você pega seu mapa e, com um corte em seu dedo, marca a ilha com um X vermelho, usando seu próprio sangue como tinta.\n",
            "\n",
            "\"Que esta marca sirva de aviso a todos os marinheiros,\" você diz, com um olhar sombrio. \"Esta ilha é um lugar de morte e maldição. Ninguém deve jamais pisar aqui novamente.\"\n",
            "\n",
            "O \"Cascavel\" corta as ondas, deixando a ilha amaldiçoada para trás. O sol se põe no horizonte, marcando o fim de uma aventura perigosa e o início de uma nova jornada.\n",
            "\n",
            "Para onde você navegará agora, Capitão Babaó? \n",
            " \n",
            "\n",
            "\n",
            "Digite sua acao: Fim\n",
            "Resposta:  ## Fim da Aventura\n",
            "\n",
            "E assim termina a aventura do Capitão Babaó e sua tripulação na ilha amaldiçoada.  Eles escaparam por pouco das garras do demônio e navegaram em busca de novas aventuras nos mares vastos.  \n",
            "\n",
            "Obrigado por jogar! Espero que tenha se divertido!  😁 \n",
            "\n",
            "Se quiser embarcar em outra aventura, é só me chamar! \n",
            "\n",
            "👋 \n",
            " \n",
            "\n",
            "\n"
          ]
        },
        {
          "output_type": "error",
          "ename": "KeyboardInterrupt",
          "evalue": "Interrupted by user",
          "traceback": [
            "\u001b[0;31m---------------------------------------------------------------------------\u001b[0m",
            "\u001b[0;31mKeyboardInterrupt\u001b[0m                         Traceback (most recent call last)",
            "\u001b[0;32m<ipython-input-31-761c6b0ad4f9>\u001b[0m in \u001b[0;36m<cell line: 22>\u001b[0;34m()\u001b[0m\n\u001b[1;32m     23\u001b[0m   \u001b[0mresponse\u001b[0m \u001b[0;34m=\u001b[0m \u001b[0mchat\u001b[0m\u001b[0;34m.\u001b[0m\u001b[0msend_message\u001b[0m\u001b[0;34m(\u001b[0m\u001b[0macao\u001b[0m\u001b[0;34m)\u001b[0m\u001b[0;34m\u001b[0m\u001b[0;34m\u001b[0m\u001b[0m\n\u001b[1;32m     24\u001b[0m   \u001b[0mprint\u001b[0m\u001b[0;34m(\u001b[0m\u001b[0;34m\"Resposta: \"\u001b[0m\u001b[0;34m,\u001b[0m \u001b[0mresponse\u001b[0m\u001b[0;34m.\u001b[0m\u001b[0mtext\u001b[0m\u001b[0;34m,\u001b[0m \u001b[0;34m\"\\n\\n\"\u001b[0m\u001b[0;34m)\u001b[0m\u001b[0;34m\u001b[0m\u001b[0;34m\u001b[0m\u001b[0m\n\u001b[0;32m---> 25\u001b[0;31m   \u001b[0macao\u001b[0m \u001b[0;34m=\u001b[0m \u001b[0minput\u001b[0m\u001b[0;34m(\u001b[0m\u001b[0;34m\"Digite sua acao: \"\u001b[0m\u001b[0;34m)\u001b[0m\u001b[0;34m\u001b[0m\u001b[0;34m\u001b[0m\u001b[0m\n\u001b[0m\u001b[1;32m     26\u001b[0m \u001b[0;34m\u001b[0m\u001b[0m\n\u001b[1;32m     27\u001b[0m \u001b[0;34m\u001b[0m\u001b[0m\n",
            "\u001b[0;32m/usr/local/lib/python3.10/dist-packages/ipykernel/kernelbase.py\u001b[0m in \u001b[0;36mraw_input\u001b[0;34m(self, prompt)\u001b[0m\n\u001b[1;32m    849\u001b[0m                 \u001b[0;34m\"raw_input was called, but this frontend does not support input requests.\"\u001b[0m\u001b[0;34m\u001b[0m\u001b[0;34m\u001b[0m\u001b[0m\n\u001b[1;32m    850\u001b[0m             )\n\u001b[0;32m--> 851\u001b[0;31m         return self._input_request(str(prompt),\n\u001b[0m\u001b[1;32m    852\u001b[0m             \u001b[0mself\u001b[0m\u001b[0;34m.\u001b[0m\u001b[0m_parent_ident\u001b[0m\u001b[0;34m,\u001b[0m\u001b[0;34m\u001b[0m\u001b[0;34m\u001b[0m\u001b[0m\n\u001b[1;32m    853\u001b[0m             \u001b[0mself\u001b[0m\u001b[0;34m.\u001b[0m\u001b[0m_parent_header\u001b[0m\u001b[0;34m,\u001b[0m\u001b[0;34m\u001b[0m\u001b[0;34m\u001b[0m\u001b[0m\n",
            "\u001b[0;32m/usr/local/lib/python3.10/dist-packages/ipykernel/kernelbase.py\u001b[0m in \u001b[0;36m_input_request\u001b[0;34m(self, prompt, ident, parent, password)\u001b[0m\n\u001b[1;32m    893\u001b[0m             \u001b[0;32mexcept\u001b[0m \u001b[0mKeyboardInterrupt\u001b[0m\u001b[0;34m:\u001b[0m\u001b[0;34m\u001b[0m\u001b[0;34m\u001b[0m\u001b[0m\n\u001b[1;32m    894\u001b[0m                 \u001b[0;31m# re-raise KeyboardInterrupt, to truncate traceback\u001b[0m\u001b[0;34m\u001b[0m\u001b[0;34m\u001b[0m\u001b[0m\n\u001b[0;32m--> 895\u001b[0;31m                 \u001b[0;32mraise\u001b[0m \u001b[0mKeyboardInterrupt\u001b[0m\u001b[0;34m(\u001b[0m\u001b[0;34m\"Interrupted by user\"\u001b[0m\u001b[0;34m)\u001b[0m \u001b[0;32mfrom\u001b[0m \u001b[0;32mNone\u001b[0m\u001b[0;34m\u001b[0m\u001b[0;34m\u001b[0m\u001b[0m\n\u001b[0m\u001b[1;32m    896\u001b[0m             \u001b[0;32mexcept\u001b[0m \u001b[0mException\u001b[0m \u001b[0;32mas\u001b[0m \u001b[0me\u001b[0m\u001b[0;34m:\u001b[0m\u001b[0;34m\u001b[0m\u001b[0;34m\u001b[0m\u001b[0m\n\u001b[1;32m    897\u001b[0m                 \u001b[0mself\u001b[0m\u001b[0;34m.\u001b[0m\u001b[0mlog\u001b[0m\u001b[0;34m.\u001b[0m\u001b[0mwarning\u001b[0m\u001b[0;34m(\u001b[0m\u001b[0;34m\"Invalid Message:\"\u001b[0m\u001b[0;34m,\u001b[0m \u001b[0mexc_info\u001b[0m\u001b[0;34m=\u001b[0m\u001b[0;32mTrue\u001b[0m\u001b[0;34m)\u001b[0m\u001b[0;34m\u001b[0m\u001b[0;34m\u001b[0m\u001b[0m\n",
            "\u001b[0;31mKeyboardInterrupt\u001b[0m: Interrupted by user"
          ]
        }
      ],
      "source": [
        "import textwrap\n",
        "from IPython.display import display\n",
        "from IPython.display import Markdown\n",
        "\n",
        "def to_markdown(text):\n",
        "  text = text.replace('•', '  *')\n",
        "  return Markdown(textwrap.indent(text, '> ', predicate=lambda _: True))\n",
        "\n",
        "    #Código disponível em https://ai.google.dev/tutorials/python_quickstart#import_packages\n",
        "\n",
        "#Imprimindo o histórico\n",
        "for message in chat.history:\n",
        "  chat.history.clear\n",
        "  display(to_markdown(f'**{message.role}**: {message.parts[0].text}'))\n",
        "  print('-------------------------------------------')\n",
        "char = input(\"Digite o nome do seu Personagen para a aventura: \")\n",
        "tema = input(\"Digite tema da aventura: \")\n",
        "cena = \"Vamos jogar RPG de mesa, aja como um mestre e inicie uma aventura para 01 jogador, narre de forma simples e curta, e desenvolva conforme o feedback do jogador, lembre-se de utilizar textos curtos e simples para deixar a aventura dinâmica, use o nome do jogador como {char}, para se usado na aventura, utilize também o tema proposto para ser usado na aventura\"\n",
        "response = chat.send_message(tema+char+cena)\n",
        "print(\"Resposta: \", response.text, \"\\n\\n\")\n",
        "acao = input(\"Digite sua acao: \")\n",
        "while acao != 'fim':\n",
        "  response = chat.send_message(acao)\n",
        "  print(\"Resposta: \", response.text, \"\\n\\n\")\n",
        "  acao = input(\"Digite sua acao: \")"
      ]
    },
    {
      "cell_type": "markdown",
      "source": [
        "Exemplo de aventura:\n",
        "\n",
        "Digite o nome do seu Personagen para a aventura: Babao\n",
        "Digite tema da aventura: Pirata\n",
        "Resposta:  ## Marés da Fortuna\n",
        "\n",
        "Babaó, o sol escaldante brilha sobre o mar azul-turquesa. A brisa salgada sopra em seu rosto enquanto você se equilibra no convés do seu navio pirata, o \"Cascavel\".  Sua tripulação, um bando de desajustados e aventureiros, está ocupada com suas tarefas, preparando-se para a próxima aventura.\n",
        "\n",
        "Qual é o seu próximo destino, Capitão Babaó?  🗺️\n",
        "\n",
        "\n",
        "\n",
        "Digite sua acao: Ao caribe marujos\n",
        "Resposta:  \"Ao Caribe, marujos!\" você grita, sua voz ecoando pelo convés. A tripulação explode em vivas e assobios, animados com a perspectiva de saques e aventuras. O \"Cascavel\" corta as ondas, deixando um rastro espumante enquanto navega em direção ao pôr do sol.\n",
        "\n",
        "Após alguns dias de viagem, o vigia grita do topo do mastro: \"Terra à vista!\". No horizonte, uma ilha surge, coberta por uma densa vegetação tropical.\n",
        "\n",
        "O que você faz, Capitão Babaó?\n",
        "\n",
        "\n",
        "\n",
        "Digite sua acao: Olho pela luneta\n",
        "Resposta:  Você pega sua luneta e a leva aos olhos, focalizando a ilha. Você vê uma praia de areia branca, palmeiras balançando ao vento e uma densa selva que se estende até o interior. Em uma das extremidades da praia, você nota algumas construções de madeira, que parecem ser cabanas.\n",
        "\n",
        "O que você faz, Capitão Babaó?\n",
        "\n",
        "\n",
        "\n",
        "Digite sua acao: uma ilha de pescadores\n",
        "Resposta:  \"Parece uma ilha de pescadores,\" você murmura para si mesmo, analisando as cabanas simples e os barcos de pesca ancorados na praia. \"Mas nunca se sabe o que pode estar escondido nessas ilhas...\"\n",
        "\n",
        "Você decide:\n",
        "\n",
        "1. **Enviar um grupo de reconhecimento para explorar a ilha.**\n",
        "2. **Ancorar o navio e liderar a tripulação em terra.**\n",
        "3. **Manter distância e observar a ilha por mais tempo.**\n",
        "\n",
        "\n",
        "O que você escolhe, Capitão Babaó?\n",
        "\n",
        "\n",
        "\n",
        "Digite sua acao: Enviar\n",
        "Resposta:  \"Capitão Barba Ruiva e João Pé-de-pau, preparem um grupo de reconhecimento e explorem a ilha,\" você ordena. \"Tenham cuidado e voltem assim que tiverem informações.\"\n",
        "\n",
        "Os dois piratas experientes reúnem alguns homens e partem em um pequeno bote em direção à praia. Eles desaparecem na densa vegetação e você fica no convés, aguardando seu retorno.\n",
        "\n",
        "O que você faz enquanto espera, Capitão Babaó?\n",
        "\n",
        "\n",
        "\n",
        "Digite sua acao: tomo run\n",
        "Resposta:  Você se serve de um generoso gole de rum, sentindo o líquido quente descer pela sua garganta. Enquanto observa a ilha, você repassa as possibilidades em sua mente. Será que a ilha é realmente apenas um vilarejo de pescadores pacíficos? Ou será que há algo mais escondido ali, tesouros ou perigos?\n",
        "\n",
        "O tempo passa e o sol começa a se pôr, pintando o céu com tons de laranja e vermelho. A tripulação começa a ficar impaciente, e você também.\n",
        "\n",
        "O que você faz, Capitão Babaó?\n",
        "\n",
        "\n",
        "\n",
        "Digite sua acao: onde estão eles, olho pela luneta\n",
        "Resposta:  \"Onde estão esses malditos?\" você resmunga, levando a luneta aos olhos novamente. Você examina a praia e a linha da vegetação, mas não vê nenhum sinal do grupo de reconhecimento. A preocupação começa a tomar conta de você.\n",
        "\n",
        "O que você faz, Capitão Babaó?\n",
        "\n",
        "\n",
        "\n",
        "Digite sua acao: vamos ancorar, preparem as espada\n",
        "Resposta:  \"Preparem as espadas e levantem âncora!\" você grita, sua voz carregada de urgência. \"Parece que nossos amigos encontraram problemas. Vamos resgatá-los!\"\n",
        "\n",
        "A tripulação entra em ação, içando as velas e preparando as armas. O \"Cascavel\" se aproxima da praia e você lidera seus homens em terra, espadas em punho, prontos para enfrentar qualquer perigo que possa estar à espreita na ilha.\n",
        "\n",
        "Ao adentrarem a vegetação, vocês ouvem um barulho estranho, como um canto gutural vindo das profundezas da selva.\n",
        "\n",
        "O que vocês fazem?\n",
        "\n",
        "\n",
        "\n",
        "Digite sua acao: o que isso?\n",
        "Resposta:  \"Que diabos é isso?\" um dos seus homens sussurra, com os olhos arregalados de medo. O canto gutural fica mais alto e vocês percebem que ele está se aproximando.\n",
        "\n",
        "Vocês avançam cautelosamente pela selva, as espadas em punho. A vegetação é densa e escura, e vocês mal conseguem enxergar alguns passos à frente. De repente, vocês se deparam com uma clareira.\n",
        "\n",
        "No centro da clareira, em volta de uma fogueira, está um grupo de nativos vestidos com roupas feitas de penas e ossos. Eles cantam e dançam em volta do fogo, e no meio deles, amarrados a um poste, estão Barba Ruiva e João Pé-de-pau!\n",
        "\n",
        "O que vocês fazem?\n",
        "\n",
        "\n",
        "\n",
        "Digite sua acao: eu pego minha garrucha e atiro em um deles e grito atacar!\n",
        "Resposta:  \"Atacar!\" você ruge, sacando sua garrucha e disparando contra um dos nativos. O tiro ecoa pela selva e o nativo cai no chão, morto. A tripulação irrompe em um grito de guerra e avança contra os nativos, espadas e pistolas em punho.\n",
        "\n",
        "Os nativos, surpresos pelo ataque repentino, revidam com lanças e flechas. Uma batalha feroz se inicia na clareira, com os piratas e os nativos lutando com todas as suas forças.\n",
        "\n",
        "O que você faz, Capitão Babaó?\n",
        "\n",
        "\n",
        "\n",
        "Digite sua acao: solto os prisioneiros\n",
        "Resposta:  Enquanto a batalha se desenrola ao seu redor, você corre em direção ao poste onde Barba Ruiva e João Pé-de-pau estão amarrados. Com alguns golpes rápidos de sua espada, você corta as cordas que os prendem.\n",
        "\n",
        "\"Capitão!\" Barba Ruiva exclama, massageando os pulsos. \"Esses selvagens nos pegaram de surpresa!\"\n",
        "\n",
        "\"Não se preocupem,\" você responde. \"Vamos dar uma lição nesses cães!\"\n",
        "\n",
        "Juntos, vocês três se juntam à batalha, lutando lado a lado com sua tripulação. Os nativos, apesar de serem ferozes, estão em menor número e começam a recuar.\n",
        "\n",
        "O que você faz, Capitão Babaó?\n",
        "\n",
        "\n",
        "\n",
        "Digite sua acao: vamos seguilos\n",
        "Resposta:  \"Não os deixem escapar!\" você grita, liderando seus homens em perseguição aos nativos em fuga. Vocês correm pela selva, seguindo as trilhas deixadas pelos nativos.\n",
        "\n",
        "A perseguição os leva a um caminho estreito que sobe a encosta de uma montanha. No topo da montanha, vocês avistam uma estrutura imponente: um templo antigo feito de pedra, coberto de musgo e vinhas.\n",
        "\n",
        "Os nativos restantes correm para dentro do templo, desaparecendo em sua escuridão.\n",
        "\n",
        "O que você faz, Capitão Babaó?\n",
        "\n",
        "\n",
        "\n",
        "Digite sua acao: Onde diabos estamos, que ilha é essa/\n",
        "Resposta:  \"Que ilha amaldiçoada é essa?\" você murmura, olhando para o templo sinistro no topo da montanha. \"Esses nativos não parecem ser pescadores comuns...\"\n",
        "\n",
        "Barba Ruiva coça a barba, pensativo. \"Capitão, já ouvi histórias de ilhas nesta região onde tribos antigas adoravam deuses pagãos e praticavam rituais sangrentos...\"\n",
        "\n",
        "Um arrepio percorre sua espinha. Você sente que há algo de muito errado com esta ilha e com o templo no topo da montanha.\n",
        "\n",
        "O que você faz, Capitão Babaó?\n",
        "\n",
        "\n",
        "\n",
        "Digite sua acao: Vamos ao templo, atenção homens\n",
        "Resposta:  \"Atenção, homens!\" você brada, sua voz ecoando pelas encostas da montanha. \"Vamos entrar nesse templo e descobrir o que esses selvagens estão tramando!\"\n",
        "\n",
        "Com espadas em punho e pistolas carregadas, vocês começam a subir o caminho estreito que leva ao templo. A cada passo, a sensação de perigo aumenta, e vocês podem sentir os olhares dos nativos os observando das sombras.\n",
        "\n",
        "Ao chegarem à entrada do templo, vocês se deparam com um portal esculpido com imagens estranhas e símbolos misteriosos. Uma aura de poder maligno parece emanar do interior do templo.\n",
        "\n",
        "O que você faz, Capitão Babaó?\n",
        "\n",
        "\n",
        "\n",
        "Digite sua acao: continuo entrando\n",
        "Resposta:  Com um olhar determinado, você atravessa o portal e entra no templo. A escuridão o envolve, quebrada apenas por raios de luz que penetram pelas fendas no teto. O ar é pesado e úmido, com um cheiro de mofo e incenso.\n",
        "\n",
        "Vocês avançam cautelosamente pelo corredor principal do templo, as paredes decoradas com pinturas e esculturas que retratam cenas de sacrifícios e rituais macabros. Vocês podem ouvir o som de tambores e cânticos vindos das profundezas do templo.\n",
        "\n",
        "De repente, vocês ouvem um rugido ensurdecedor e o chão começa a tremer. Das sombras, surge uma criatura gigantesca, com olhos vermelhos brilhantes e garras afiadas como navalhas.\n",
        "\n",
        "O que vocês fazem?\n",
        "\n",
        "\n",
        "\n",
        "Digite sua acao: Um demônio atirem\n",
        "Resposta:  \"É um demônio!\" um dos seus homens grita, apavorado.\n",
        "\n",
        "Vocês abrem fogo contra a criatura, mas as balas parecem não ter efeito. O demônio ruge novamente e avança sobre vocês, suas garras prontas para atacar.\n",
        "\n",
        "O que vocês fazem?\n",
        "\n",
        "\n",
        "\n",
        "Digite sua acao: Vamos fugir, recuar homens\n",
        "Resposta:  \"Recuar, homens!\" você grita, percebendo que a criatura é muito poderosa para ser derrotada com armas convencionais. Vocês se viram e correm de volta pelo corredor, o demônio os perseguindo de perto.\n",
        "\n",
        "Vocês correm desesperadamente, desviando de armadilhas e obstáculos, enquanto o demônio ruge e destrói tudo em seu caminho.\n",
        "\n",
        "Vocês conseguem escapar do templo e correm montanha abaixo, de volta para o seu navio.\n",
        "\n",
        "O que você faz agora, Capitão Babaó?\n",
        "\n",
        "\n",
        "\n",
        "Digite sua acao: Vamos abandonar esse lugar amaldiçoada e nunca mais voltar eu marco a ilha no mapa com um x utilizando meu sangue\n",
        "Resposta:  \"Levantem âncora e zarpem imediatamente!\" você ordena, ainda tremendo com o encontro com o demônio. \"Vamos abandonar esta ilha amaldiçoada e nunca mais voltar!\"\n",
        "\n",
        "A tripulação obedece rapidamente, içando as velas e navegando para longe da ilha. Você pega seu mapa e, com um corte em seu dedo, marca a ilha com um X vermelho, usando seu próprio sangue como tinta.\n",
        "\n",
        "\"Que esta marca sirva de aviso a todos os marinheiros,\" você diz, com um olhar sombrio. \"Esta ilha é um lugar de morte e maldição. Ninguém deve jamais pisar aqui novamente.\"\n",
        "\n",
        "O \"Cascavel\" corta as ondas, deixando a ilha amaldiçoada para trás. O sol se põe no horizonte, marcando o fim de uma aventura perigosa e o início de uma nova jornada.\n",
        "\n",
        "Para onde você navegará agora, Capitão Babaó?\n",
        "\n",
        "\n",
        "\n",
        "Digite sua acao: Fim\n",
        "Resposta:  ## Fim da Aventura\n",
        "\n",
        "E assim termina a aventura do Capitão Babaó e sua tripulação na ilha amaldiçoada.  Eles escaparam por pouco das garras do demônio e navegaram em busca de novas aventuras nos mares vastos.  \n",
        "\n",
        "Obrigado por jogar! Espero que tenha se divertido!  😁\n",
        "\n",
        "Se quiser embarcar em outra aventura, é só me chamar!\n",
        "\n",
        "👋"
      ],
      "metadata": {
        "id": "6Yf-NqQv8Fiu"
      }
    },
    {
      "cell_type": "code",
      "source": [],
      "metadata": {
        "id": "jh9Ps0Ju8Lfv"
      },
      "execution_count": null,
      "outputs": []
    },
    {
      "cell_type": "markdown",
      "source": [],
      "metadata": {
        "id": "oV99RRwG8Cbu"
      }
    },
    {
      "cell_type": "code",
      "source": [],
      "metadata": {
        "id": "7-7WvsUA8Ehg"
      },
      "execution_count": null,
      "outputs": []
    },
    {
      "cell_type": "markdown",
      "source": [],
      "metadata": {
        "id": "QbKuTdFm8E8-"
      }
    }
  ],
  "metadata": {
    "colab": {
      "provenance": [],
      "mount_file_id": "1z7HfWau4ty43f_gCUdfe08FrCshNYeke",
      "authorship_tag": "ABX9TyNG7zizPgJxl4DGuoyPVYFJ",
      "include_colab_link": true
    },
    "kernelspec": {
      "display_name": "Python 3",
      "name": "python3"
    },
    "language_info": {
      "name": "python"
    }
  },
  "nbformat": 4,
  "nbformat_minor": 0
}