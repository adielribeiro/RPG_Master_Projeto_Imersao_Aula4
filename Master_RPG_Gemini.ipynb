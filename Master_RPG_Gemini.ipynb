{
  "cells": [
    {
      "cell_type": "markdown",
      "metadata": {
        "id": "view-in-github",
        "colab_type": "text"
      },
      "source": [
        "<a href=\"https://colab.research.google.com/github/adielribeiro/RPG_Master_Projeto_Imersao_Aula4/blob/main/Master_RPG_Gemini.ipynb\" target=\"_parent\"><img src=\"https://colab.research.google.com/assets/colab-badge.svg\" alt=\"Open In Colab\"/></a>"
      ]
    },
    {
      "cell_type": "code",
      "execution_count": null,
      "metadata": {
        "id": "sO52g3seoZr9"
      },
      "outputs": [],
      "source": [
        "pip install -q -U google-generativeai\n"
      ]
    },
    {
      "cell_type": "markdown",
      "metadata": {
        "id": "kQ9ccXQlefLY"
      },
      "source": [
        "Parâmetros e configuraçãoes\n"
      ]
    },
    {
      "cell_type": "code",
      "execution_count": null,
      "metadata": {
        "id": "YHqaqKKWo5F-"
      },
      "outputs": [],
      "source": [
        "import google.generativeai as genai\n",
        "from google.colab import userdata\n",
        "\n",
        "my_key = userdata.get('chave')\n",
        "\n",
        "genai.configure(api_key=my_key)\n"
      ]
    },
    {
      "cell_type": "code",
      "execution_count": null,
      "metadata": {
        "id": "DatbxGALRrcD"
      },
      "outputs": [],
      "source": [
        "generation_config = {\n",
        " \"candidate_count\": 1,\n",
        " \"temperature\": 1,\n",
        "}"
      ]
    },
    {
      "cell_type": "code",
      "execution_count": null,
      "metadata": {
        "id": "6qD1jZQ6R0cw"
      },
      "outputs": [],
      "source": [
        "safety_settings = {\n",
        "    \"HARASSMENT\": \"BLOCK_NONE\",\n",
        "    \"HATE\": \"BLOCK_NONE\",\n",
        "    \"SEXUAL\": \"BLOCK_NONE\",\n",
        "    \"DANGEROUS\": \"BLOCK_NONE\",\n",
        "}\n"
      ]
    },
    {
      "cell_type": "code",
      "execution_count": 41,
      "metadata": {
        "id": "ibvnk6QwR2Of"
      },
      "outputs": [],
      "source": [
        "model = genai.GenerativeModel(model_name=\"gemini-1.5-pro-latest\",\n",
        "                              generation_config=generation_config,\n",
        "                              safety_settings=safety_settings)"
      ]
    },
    {
      "cell_type": "code",
      "source": [
        "chat = model.start_chat(history=[])"
      ],
      "metadata": {
        "id": "XZmpPdVVCcP4"
      },
      "execution_count": 49,
      "outputs": []
    },
    {
      "cell_type": "markdown",
      "metadata": {
        "id": "RxFFbfltea5x"
      },
      "source": [
        "Inicio da execução"
      ]
    },
    {
      "cell_type": "code",
      "execution_count": null,
      "metadata": {
        "colab": {
          "base_uri": "https://localhost:8080/",
          "height": 1000
        },
        "id": "sEgQbY13S3m4",
        "outputId": "747807d4-b571-44df-8745-4b1144a11d30"
      },
      "outputs": [
        {
          "output_type": "display_data",
          "data": {
            "text/plain": [
              "<IPython.core.display.Markdown object>"
            ],
            "text/markdown": "> **user**: Tema: Espaço, Jogador: Erus, Cena: Vamos jogar RPG de mesa, aja como um mestre e inicie uma aventura para 01 jogador, narre de forma simples e curta, e desenvolva conforme o feedback do jogador, lembre-se de utilizar textos curtos e simples para deixar a aventura dinâmica, use o nome do jogador para se usado na aventura, utilize também o tema proposto para ser usado na aventura"
          },
          "metadata": {}
        },
        {
          "output_type": "stream",
          "name": "stdout",
          "text": [
            "-------------------------------------------\n"
          ]
        },
        {
          "output_type": "display_data",
          "data": {
            "text/plain": [
              "<IPython.core.display.Markdown object>"
            ],
            "text/markdown": "> **model**: Erus, você é um piloto espacial experiente, navegando pela vasta extensão da galáxia em sua nave, a \"Estrela Cadente\".  Seu próximo destino é o planeta Kepler-186f, um mundo distante conhecido por seus recursos naturais valiosos. O que você deseja fazer? \n"
          },
          "metadata": {}
        },
        {
          "output_type": "stream",
          "name": "stdout",
          "text": [
            "-------------------------------------------\n"
          ]
        },
        {
          "output_type": "display_data",
          "data": {
            "text/plain": [
              "<IPython.core.display.Markdown object>"
            ],
            "text/markdown": "> **user**: Olhar painel da nave"
          },
          "metadata": {}
        },
        {
          "output_type": "stream",
          "name": "stdout",
          "text": [
            "-------------------------------------------\n"
          ]
        },
        {
          "output_type": "display_data",
          "data": {
            "text/plain": [
              "<IPython.core.display.Markdown object>"
            ],
            "text/markdown": "> **model**: Erus, o painel da sua nave mostra um alerta vermelho piscando. Parece que há uma anomalia gravitacional se formando à frente. O que você faz? \n"
          },
          "metadata": {}
        },
        {
          "output_type": "stream",
          "name": "stdout",
          "text": [
            "-------------------------------------------\n"
          ]
        },
        {
          "output_type": "display_data",
          "data": {
            "text/plain": [
              "<IPython.core.display.Markdown object>"
            ],
            "text/markdown": "> **user**: Aciso a tripulação"
          },
          "metadata": {}
        },
        {
          "output_type": "stream",
          "name": "stdout",
          "text": [
            "-------------------------------------------\n"
          ]
        },
        {
          "output_type": "display_data",
          "data": {
            "text/plain": [
              "<IPython.core.display.Markdown object>"
            ],
            "text/markdown": "> **model**: Erus, você aciona o sistema de comunicação da nave, mas é recebido por estática.  Parece que a anomalia está interferindo nos sistemas de comunicação.  Você está sozinho nesta. O que você faz agora? \n"
          },
          "metadata": {}
        },
        {
          "output_type": "stream",
          "name": "stdout",
          "text": [
            "-------------------------------------------\n"
          ]
        },
        {
          "output_type": "display_data",
          "data": {
            "text/plain": [
              "<IPython.core.display.Markdown object>"
            ],
            "text/markdown": "> **user**: Tento acionar o piloto automatio"
          },
          "metadata": {}
        },
        {
          "output_type": "stream",
          "name": "stdout",
          "text": [
            "-------------------------------------------\n"
          ]
        },
        {
          "output_type": "display_data",
          "data": {
            "text/plain": [
              "<IPython.core.display.Markdown object>"
            ],
            "text/markdown": "> **model**: Erus, você tenta acionar o piloto automático, mas o sistema não responde. A anomalia parece estar afetando todos os sistemas da nave. Você está perdendo altitude rapidamente e se aproximando do planeta. Você precisa agir rápido!  O que você faz? \n"
          },
          "metadata": {}
        },
        {
          "output_type": "stream",
          "name": "stdout",
          "text": [
            "-------------------------------------------\n"
          ]
        },
        {
          "output_type": "display_data",
          "data": {
            "text/plain": [
              "<IPython.core.display.Markdown object>"
            ],
            "text/markdown": "> **user**: Lembro das aulas e tento corrigir o curso"
          },
          "metadata": {}
        },
        {
          "output_type": "stream",
          "name": "stdout",
          "text": [
            "-------------------------------------------\n"
          ]
        },
        {
          "output_type": "display_data",
          "data": {
            "text/plain": [
              "<IPython.core.display.Markdown object>"
            ],
            "text/markdown": "> **model**: Erus, sua experiência como piloto vem à tona em um momento crucial.  Você assume os controles manuais e luta contra a força gravitacional da anomalia.  Com habilidade e um pouco de sorte, você consegue estabilizar a nave e evitar um impacto desastroso.  Você entra na atmosfera de Kepler-186f. O que você deseja fazer agora? \n"
          },
          "metadata": {}
        },
        {
          "output_type": "stream",
          "name": "stdout",
          "text": [
            "-------------------------------------------\n"
          ]
        },
        {
          "output_type": "display_data",
          "data": {
            "text/plain": [
              "<IPython.core.display.Markdown object>"
            ],
            "text/markdown": "> **user**: Comunico a tipulação, preparar para pouso"
          },
          "metadata": {}
        },
        {
          "output_type": "stream",
          "name": "stdout",
          "text": [
            "-------------------------------------------\n"
          ]
        },
        {
          "output_type": "display_data",
          "data": {
            "text/plain": [
              "<IPython.core.display.Markdown object>"
            ],
            "text/markdown": "> **model**: Erus, você tenta mais uma vez se comunicar com a tripulação, mas ainda não há resposta. A anomalia parece estar afetando apenas os sistemas da nave, mas não a comunicação interna.  Você decide se preparar para um pouso de emergência. Você avista uma área plana e descampada que parece adequada para o pouso. O que você faz? \n"
          },
          "metadata": {}
        },
        {
          "output_type": "stream",
          "name": "stdout",
          "text": [
            "-------------------------------------------\n"
          ]
        },
        {
          "output_type": "display_data",
          "data": {
            "text/plain": [
              "<IPython.core.display.Markdown object>"
            ],
            "text/markdown": "> **user**: Pouso a nave"
          },
          "metadata": {}
        },
        {
          "output_type": "stream",
          "name": "stdout",
          "text": [
            "-------------------------------------------\n"
          ]
        },
        {
          "output_type": "display_data",
          "data": {
            "text/plain": [
              "<IPython.core.display.Markdown object>"
            ],
            "text/markdown": "> **model**: Erus, com manobras precisas, você consegue pousar a \"Estrela Cadente\" em segurança na superfície de Kepler-186f. O impacto sacode a nave, mas você não se fere.  Você olha para fora da janela e vê um cenário alienígena de tirar o fôlego.  Árvores gigantescas com folhas bioluminescentes iluminam a paisagem ao redor. O que você deseja fazer agora? \n"
          },
          "metadata": {}
        },
        {
          "output_type": "stream",
          "name": "stdout",
          "text": [
            "-------------------------------------------\n"
          ]
        },
        {
          "output_type": "display_data",
          "data": {
            "text/plain": [
              "<IPython.core.display.Markdown object>"
            ],
            "text/markdown": "> **user**: coloco o traje e saio da nave"
          },
          "metadata": {}
        },
        {
          "output_type": "stream",
          "name": "stdout",
          "text": [
            "-------------------------------------------\n"
          ]
        },
        {
          "output_type": "display_data",
          "data": {
            "text/plain": [
              "<IPython.core.display.Markdown object>"
            ],
            "text/markdown": "> **model**: Erus, você veste seu traje espacial e sai da \"Estrela Cadente\". O ar é respirável, mas frio, e você sente um leve cheiro de ozônio. Ao olhar ao redor, você percebe que a anomalia gravitacional parece ter desaparecido.  Você decide explorar o ambiente ao redor da nave. O que você faz?\n"
          },
          "metadata": {}
        },
        {
          "output_type": "stream",
          "name": "stdout",
          "text": [
            "-------------------------------------------\n"
          ]
        },
        {
          "output_type": "display_data",
          "data": {
            "text/plain": [
              "<IPython.core.display.Markdown object>"
            ],
            "text/markdown": "> **user**: Procuro a tripulação"
          },
          "metadata": {}
        },
        {
          "output_type": "stream",
          "name": "stdout",
          "text": [
            "-------------------------------------------\n"
          ]
        },
        {
          "output_type": "display_data",
          "data": {
            "text/plain": [
              "<IPython.core.display.Markdown object>"
            ],
            "text/markdown": "> **model**: Erus, você chama pela tripulação, mas não obtém resposta. Você decide seguir as pegadas na terra macia que levam para a floresta bioluminescente. As pegadas parecem ser de botas espaciais, semelhantes às que sua tripulação usa. Você segue as pegadas com cautela, adentrando a floresta alienígena.  O que você faz a seguir? \n"
          },
          "metadata": {}
        },
        {
          "output_type": "stream",
          "name": "stdout",
          "text": [
            "-------------------------------------------\n"
          ]
        },
        {
          "output_type": "display_data",
          "data": {
            "text/plain": [
              "<IPython.core.display.Markdown object>"
            ],
            "text/markdown": "> **user**: Sigo em frente"
          },
          "metadata": {}
        },
        {
          "output_type": "stream",
          "name": "stdout",
          "text": [
            "-------------------------------------------\n"
          ]
        },
        {
          "output_type": "display_data",
          "data": {
            "text/plain": [
              "<IPython.core.display.Markdown object>"
            ],
            "text/markdown": "> **model**: Erus, a floresta fica mais densa à medida que você avança. As árvores gigantescas formam um dossel quase impenetrável, bloqueando a maior parte da luz do sol.  As plantas bioluminescentes ao redor iluminam o caminho, criando uma atmosfera misteriosa e etérea. Você ouve um som estranho vindo de algum lugar à frente.  Parece um zumbido baixo misturado com um chiado metálico. O que você faz? \n"
          },
          "metadata": {}
        },
        {
          "output_type": "stream",
          "name": "stdout",
          "text": [
            "-------------------------------------------\n"
          ]
        },
        {
          "output_type": "display_data",
          "data": {
            "text/plain": [
              "<IPython.core.display.Markdown object>"
            ],
            "text/markdown": "> **user**: Pego a armar a lazer e me preparo e sigo o som"
          },
          "metadata": {}
        },
        {
          "output_type": "stream",
          "name": "stdout",
          "text": [
            "-------------------------------------------\n"
          ]
        },
        {
          "output_type": "display_data",
          "data": {
            "text/plain": [
              "<IPython.core.display.Markdown object>"
            ],
            "text/markdown": "> **model**: Erus, com a arma laser em punho, você avança cautelosamente em direção à fonte do som.  A vegetação densa dificulta a visibilidade, mas você consegue distinguir uma luz fraca à frente.  Conforme você se aproxima, o zumbido fica mais alto e o chiado metálico se torna mais distinto.  Você chega a uma clareira e se depara com uma visão surpreendente. O que você vê? \n"
          },
          "metadata": {}
        },
        {
          "output_type": "stream",
          "name": "stdout",
          "text": [
            "-------------------------------------------\n"
          ]
        }
      ],
      "source": [
        "import textwrap\n",
        "from IPython.display import display\n",
        "from IPython.display import Markdown\n",
        "\n",
        "def to_markdown(text):\n",
        "  text = text.replace('•', '  *')\n",
        "  return Markdown(textwrap.indent(text, '> ', predicate=lambda _: True))\n",
        "\n",
        "    #Código disponível em https://ai.google.dev/tutorials/python_quickstart#import_packages\n",
        "\n",
        "#Imprimindo o histórico\n",
        "for message in chat.history:\n",
        "  chat.history.clear\n",
        "  display(to_markdown(f'**{message.role}**: {message.parts[0].text}'))\n",
        "  print('-------------------------------------------')\n",
        "char = input(\"Digite o nome do seu Personagen para a aventura: \")\n",
        "tema = input(\"Digite tema da aventura: \")\n",
        "cena = \"Vamos jogar RPG de mesa, aja como um mestre e inicie uma aventura para 01 jogador, narre de forma simples e curta, e desenvolva conforme o feedback do jogador, lembre-se de utilizar textos curtos e simples para deixar a aventura dinâmica, use o nome do jogador para se usado na aventura, utilize também o tema proposto para ser usado na aventura\"\n",
        "response = chat.send_message(\"Tema: \"+tema+\", \"+\"Jogador: \"+char+\", \"\"Cena: \"+cena)\n",
        "print(\"Resposta: \", response.text, \"\\n\\n\")\n",
        "acao = input(\"Digite sua acao: \")\n",
        "while acao != 'fim':\n",
        "  response = chat.send_message(acao)\n",
        "  print(\"Resposta: \", response.text, \"\\n\\n\")\n",
        "  acao = input(\"Digite sua acao: \")"
      ]
    }
  ],
  "metadata": {
    "colab": {
      "provenance": [],
      "mount_file_id": "1z7HfWau4ty43f_gCUdfe08FrCshNYeke",
      "authorship_tag": "ABX9TyPrF+bomCN/YPnJU1qQhhIB",
      "include_colab_link": true
    },
    "kernelspec": {
      "display_name": "Python 3",
      "name": "python3"
    },
    "language_info": {
      "name": "python"
    }
  },
  "nbformat": 4,
  "nbformat_minor": 0
}